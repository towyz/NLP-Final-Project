{
 "cells": [
  {
   "cell_type": "code",
   "execution_count": 1,
   "id": "9abf6195",
   "metadata": {},
   "outputs": [],
   "source": [
    "!set HTTP_PROXY=http://127.0.0.1: 7890\n",
    "!set HTTPS_PROXY=https://127.0.0.1: 7890"
   ]
  },
  {
   "cell_type": "code",
   "execution_count": 2,
   "id": "9838301f",
   "metadata": {},
   "outputs": [],
   "source": [
    "import praw\n",
    "import re"
   ]
  },
  {
   "cell_type": "code",
   "execution_count": 3,
   "id": "5b168af9",
   "metadata": {},
   "outputs": [],
   "source": [
    "reddit = praw.Reddit(\n",
    "    client_id=\"oJd0bJxDJiyBpsGOi7u0rg\",\n",
    "    client_secret=\"sPJ3VJqMavUNUfXbB7b0ipU34Z-H1g\",\n",
    "    user_agent=\"testscript by u/fakebot3\",\n",
    ")"
   ]
  },
  {
   "cell_type": "code",
   "execution_count": 4,
   "id": "450bd56e",
   "metadata": {},
   "outputs": [],
   "source": [
    "def get_hot_posts(subreddit_name=\"all\", limit=10):\n",
    "    \"\"\"\n",
    "    获取指定子版块的热门帖子\\n\n",
    "    :param subreddit_name: 子版块名称（默认 'all' 即全站）\\n\n",
    "    :param limit: 获取的帖子数量\\n\n",
    "    :return: 帖子信息列表\n",
    "    \"\"\"\n",
    "    subreddit = reddit.subreddit(subreddit_name)\n",
    "    hot_posts = []\n",
    "    notFoundList = []\n",
    "\n",
    "    print(f\"🔥 正在获取 r/{subreddit_name} 的热门帖子...\\n\")\n",
    "\n",
    "    try:\n",
    "        for post in subreddit.hot(limit=limit):\n",
    "        # 提取关键信息\n",
    "            post_info = {\n",
    "                \"标题\": post.title,\n",
    "                \"作者\": f\"u/{post.author.name}\" if post.author else \"[已删除]\",\n",
    "                \"分数\": post.score,\n",
    "                \"评论数\": post.num_comments,\n",
    "                \"链接\": f\"https://reddit.com{post.permalink}\",\n",
    "                \"NSFW\": post.over_18,\n",
    "                \"发布时间\": post.created_utc,  # Unix 时间戳\n",
    "                \"媒体类型\": \"视频\" if post.is_video else \"图片\" if post.url.endswith(('jpg', 'png', 'gif')) else \"文本/链接\"\n",
    "            }\n",
    "            hot_posts.append(post_info)\n",
    "    except Exception as e:\n",
    "        notFoundList.append(subreddit_name)\n",
    "        return [], notFoundList\n",
    "\n",
    "    return hot_posts, []"
   ]
  },
  {
   "cell_type": "markdown",
   "id": "1bf1fe58",
   "metadata": {},
   "source": [
    "排除的话题：体育（视频太多了）\n",
    "添加的话题：篮球，Trump"
   ]
  },
  {
   "cell_type": "code",
   "execution_count": 9,
   "id": "a2c284a8",
   "metadata": {},
   "outputs": [
    {
     "name": "stdout",
     "output_type": "stream",
     "text": [
      "🔥 正在获取 r/basketball 的热门帖子...\n",
      "\n",
      "【1】New Rule: Do Not ask for Medical Advice\n",
      "    👍 分数: 82 | 💬 评论: 11 | 👤 作者: u/Commandant1\n",
      "    🔗 链接: https://reddit.com/r/Basketball/comments/1jo7aau/new_rule_do_not_ask_for_medical_advice/\n",
      "    🏷️ NSFW: 否 | 🎬 媒体类型: 文本/链接\n",
      "\n",
      "【2】Official Shoes, Gear, Equipment, etc... Megathread\n",
      "    👍 分数: 2 | 💬 评论: 3 | 👤 作者: u/Commandant1\n",
      "    🔗 链接: https://reddit.com/r/Basketball/comments/1k1izx2/official_shoes_gear_equipment_etc_megathread/\n",
      "    🏷️ NSFW: 否 | 🎬 媒体类型: 文本/链接\n",
      "\n",
      "【3】why just wnba balls smaller and not anything else?\n",
      "    👍 分数: 63 | 💬 评论: 90 | 👤 作者: u/kslmbda\n",
      "    🔗 链接: https://reddit.com/r/Basketball/comments/1k2fidh/why_just_wnba_balls_smaller_and_not_anything_else/\n",
      "    🏷️ NSFW: 否 | 🎬 媒体类型: 文本/链接\n",
      "\n",
      "【4】Adam Silver Says Mavs Aren't Leaving Dallas, No 'Ulterior Motives' for Luka Trade\n",
      "    👍 分数: 80 | 💬 评论: 50 | 👤 作者: u/Edm_vanhalen1981\n",
      "    🔗 链接: https://reddit.com/r/Basketball/comments/1k2b0ti/adam_silver_says_mavs_arent_leaving_dallas_no/\n",
      "    🏷️ NSFW: 否 | 🎬 媒体类型: 文本/链接\n",
      "\n",
      "【5】Lost my College Intramural Championship for calling a timeout when we didn't have one :(\n",
      "    👍 分数: 2 | 💬 评论: 4 | 👤 作者: u/InternationalPick163\n",
      "    🔗 链接: https://reddit.com/r/Basketball/comments/1k2qvcv/lost_my_college_intramural_championship_for/\n",
      "    🏷️ NSFW: 否 | 🎬 媒体类型: 文本/链接\n",
      "\n",
      "【6】how should i start watching matches??(idk)\n",
      "    👍 分数: 2 | 💬 评论: 2 | 👤 作者: u/aki_orv\n",
      "    🔗 链接: https://reddit.com/r/Basketball/comments/1k2ofyn/how_should_i_start_watching_matchesidk/\n",
      "    🏷️ NSFW: 否 | 🎬 媒体类型: 文本/链接\n",
      "\n",
      "【7】Is it a double dribble if I receive the ball while moving then taking 2 steps then start dribbling?\n",
      "    👍 分数: 6 | 💬 评论: 15 | 👤 作者: u/chananddat\n",
      "    🔗 链接: https://reddit.com/r/Basketball/comments/1k2iur6/is_it_a_double_dribble_if_i_receive_the_ball/\n",
      "    🏷️ NSFW: 否 | 🎬 媒体类型: 文本/链接\n",
      "\n",
      "【8】how to start playing basketball as absolute beginner as a girl?\n",
      "    👍 分数: 4 | 💬 评论: 10 | 👤 作者: u/starrr333\n",
      "    🔗 链接: https://reddit.com/r/Basketball/comments/1k2hyjd/how_to_start_playing_basketball_as_absolute/\n",
      "    🏷️ NSFW: 否 | 🎬 媒体类型: 文本/链接\n",
      "\n",
      "【9】Is it a foul if you run into someone to shoot and push them over without extending?\n",
      "    👍 分数: 4 | 💬 评论: 18 | 👤 作者: u/Dogago19\n",
      "    🔗 链接: https://reddit.com/r/Basketball/comments/1k2iogx/is_it_a_foul_if_you_run_into_someone_to_shoot_and/\n",
      "    🏷️ NSFW: 否 | 🎬 媒体类型: 文本/链接\n",
      "\n",
      "【10】Suns 2025-2026 championship squad\n",
      "    👍 分数: 1 | 💬 评论: 0 | 👤 作者: u/Agency_Agreeable\n",
      "    🔗 链接: https://reddit.com/r/Basketball/comments/1k2ovv0/suns_20252026_championship_squad/\n",
      "    🏷️ NSFW: 否 | 🎬 媒体类型: 文本/链接\n",
      "\n"
     ]
    }
   ],
   "source": [
    "# 示例：获取 r/all 的 10 条热门帖子\n",
    "posts, notFoundList = get_hot_posts(subreddit_name=\"basketball\", limit=10)\n",
    "\n",
    "# 打印结果\n",
    "for idx, post in enumerate(posts, 1):\n",
    "    print(f\"【{idx}】{post['标题']}\")\n",
    "    print(f\"    👍 分数: {post['分数']} | 💬 评论: {post['评论数']} | 👤 作者: {post['作者']}\")\n",
    "    print(f\"    🔗 链接: {post['链接']}\")\n",
    "    print(f\"    🏷️ NSFW: {'是' if post['NSFW'] else '否'} | 🎬 媒体类型: {post['媒体类型']}\\n\")"
   ]
  },
  {
   "cell_type": "code",
   "execution_count": 10,
   "id": "10ef067a",
   "metadata": {},
   "outputs": [
    {
     "name": "stdout",
     "output_type": "stream",
     "text": [
      "🔥 正在获取 r/Trump 的热门帖子...\n",
      "\n"
     ]
    }
   ],
   "source": [
    "posts_, _ = get_hot_posts(subreddit_name=\"Trump\", limit=10)\n",
    "posts += posts_"
   ]
  },
  {
   "cell_type": "code",
   "execution_count": 23,
   "id": "ac8078b5",
   "metadata": {},
   "outputs": [
    {
     "name": "stdout",
     "output_type": "stream",
     "text": [
      "(\"\"\"New Rule: Do Not ask for Medical Advice\"\"\",\"\"\"https://reddit.com/r/Basketball/comments/1jo7aau/new_rule_do_not_ask_for_medical_advice/\"\"\"),\n",
      "(\"\"\"Official Shoes, Gear, Equipment, etc... Megathread\"\"\",\"\"\"https://reddit.com/r/Basketball/comments/1k1izx2/official_shoes_gear_equipment_etc_megathread/\"\"\"),\n",
      "(\"\"\"why just wnba balls smaller and not anything else?\"\"\",\"\"\"https://reddit.com/r/Basketball/comments/1k2fidh/why_just_wnba_balls_smaller_and_not_anything_else/\"\"\"),\n",
      "(\"\"\"Adam Silver Says Mavs Aren't Leaving Dallas, No 'Ulterior Motives' for Luka Trade\"\"\",\"\"\"https://reddit.com/r/Basketball/comments/1k2b0ti/adam_silver_says_mavs_arent_leaving_dallas_no/\"\"\"),\n",
      "(\"\"\"Lost my College Intramural Championship for calling a timeout when we didn't have one :(\"\"\",\"\"\"https://reddit.com/r/Basketball/comments/1k2qvcv/lost_my_college_intramural_championship_for/\"\"\"),\n",
      "(\"\"\"how should i start watching matches??(idk)\"\"\",\"\"\"https://reddit.com/r/Basketball/comments/1k2ofyn/how_should_i_start_watching_matchesidk/\"\"\"),\n",
      "(\"\"\"Is it a double dribble if I receive the ball while moving then taking 2 steps then start dribbling?\"\"\",\"\"\"https://reddit.com/r/Basketball/comments/1k2iur6/is_it_a_double_dribble_if_i_receive_the_ball/\"\"\"),\n",
      "(\"\"\"how to start playing basketball as absolute beginner as a girl?\"\"\",\"\"\"https://reddit.com/r/Basketball/comments/1k2hyjd/how_to_start_playing_basketball_as_absolute/\"\"\"),\n",
      "(\"\"\"Is it a foul if you run into someone to shoot and push them over without extending?\"\"\",\"\"\"https://reddit.com/r/Basketball/comments/1k2iogx/is_it_a_foul_if_you_run_into_someone_to_shoot_and/\"\"\"),\n",
      "(\"\"\"Suns 2025-2026 championship squad\"\"\",\"\"\"https://reddit.com/r/Basketball/comments/1k2ovv0/suns_20252026_championship_squad/\"\"\"),\n",
      "(\"\"\"Here's the swearing in of DJT! \"\"\",\"\"\"https://reddit.com/r/trump/comments/1i5vjor/heres_the_swearing_in_of_djt/\"\"\"),\n",
      "(\"\"\"Donald J Trump is now the 47th President! \"\"\",\"\"\"https://reddit.com/r/trump/comments/1i5v404/donald_j_trump_is_now_the_47th_president/\"\"\"),\n",
      "(\"\"\"You'd think they'd be happy. An el salvador citizen is finally home.\"\"\",\"\"\"https://reddit.com/r/trump/comments/1k2gw8t/youd_think_theyd_be_happy_an_el_salvador_citizen/\"\"\"),\n",
      "(\"\"\"Yes Sir! 🇺🇸🇺🇸🇺🇸\"\"\",\"\"\"https://reddit.com/r/trump/comments/1k2n82s/yes_sir/\"\"\"),\n",
      "(\"\"\"Agreed! 👊🇺🇸\"\"\",\"\"\"https://reddit.com/r/trump/comments/1k2om2r/agreed/\"\"\"),\n",
      "(\"\"\"Brutal lol. Yes it's real.\"\"\",\"\"\"https://reddit.com/r/trump/comments/1k29jsl/brutal_lol_yes_its_real/\"\"\"),\n",
      "(\"\"\"Where’s the media backlash about this gesture Bernie Sanders recently made? 🤔\"\"\",\"\"\"https://reddit.com/r/trump/comments/1k26izg/wheres_the_media_backlash_about_this_gesture/\"\"\"),\n",
      "(\"\"\"I’m Sure You are Back From El Salvador……\"\"\",\"\"\"https://reddit.com/r/trump/comments/1k2egcs/im_sure_you_are_back_from_el_salvador/\"\"\"),\n",
      "(\"\"\"Trump with the prime minister of Italy.\"\"\",\"\"\"https://reddit.com/r/trump/comments/1k23m5m/trump_with_the_prime_minister_of_italy/\"\"\"),\n",
      "(\"\"\"Troller-in-Chief\"\"\",\"\"\"https://reddit.com/r/trump/comments/1k2i6fi/trollerinchief/\"\"\"),\n"
     ]
    }
   ],
   "source": [
    "for post in posts:\n",
    "    print(\"(\\\"\\\"\\\"\" + post['标题'] + \"\\\"\\\"\\\",\" + \"\\\"\\\"\\\"\" + post['链接'] + \"\\\"\\\"\\\"),\")"
   ]
  },
  {
   "cell_type": "code",
   "execution_count": 7,
   "id": "e6508322",
   "metadata": {},
   "outputs": [
    {
     "data": {
      "text/plain": [
       "['e-sports']"
      ]
     },
     "execution_count": 7,
     "metadata": {},
     "output_type": "execute_result"
    }
   ],
   "source": [
    "notFoundList"
   ]
  },
  {
   "cell_type": "code",
   "execution_count": null,
   "id": "e0eccc8a",
   "metadata": {},
   "outputs": [],
   "source": [
    "def extract_post_id(post_url):\n",
    "    \"\"\"\n",
    "    从 Reddit 帖子链接中提取帖子 ID\\n\n",
    "    :param post_url: Reddit 帖子链接\\n\n",
    "    :return: 帖子 ID\n",
    "    \"\"\"\n",
    "    match = re.search(r'comments/([a-zA-Z0-9]+)/', post_url)\n",
    "    return match.group(1) if match else None"
   ]
  },
  {
   "cell_type": "code",
   "execution_count": null,
   "id": "a76db181",
   "metadata": {},
   "outputs": [],
   "source": [
    "# 通过 id 获得帖子的内容\n",
    "def get_content(post_id):\n",
    "    \"\"\"\n",
    "    获取指定帖子的内容\\n\n",
    "    :param post_id: 帖子 ID\\n\n",
    "    :return: 帖子内容\n",
    "    \"\"\"\n",
    "    submission = reddit.submission(id=post_id)\n",
    "    content = submission.selftext\n",
    "    return content"
   ]
  },
  {
   "cell_type": "code",
   "execution_count": null,
   "id": "891645f3",
   "metadata": {},
   "outputs": [],
   "source": [
    "def get_posts_title_content(posts):\n",
    "    \"\"\"\n",
    "    获取帖子内容\\n\n",
    "    :param posts: 帖子信息列表\n",
    "    :return: 帖子 ID、标题和内容的元组列表\n",
    "    \"\"\"\n",
    "    posts_id_title_contents = []\n",
    "    for post in posts:\n",
    "        submission = reddit.submission(extract_post_id(post['链接']))\n",
    "        content = submission.selftext\n",
    "        posts_id_title_contents.append((extract_post_id(post['链接']), post['标题'], content, post['链接']))\n",
    "    return posts_id_title_contents"
   ]
  },
  {
   "cell_type": "code",
   "execution_count": 12,
   "id": "9f0bfc27",
   "metadata": {},
   "outputs": [
    {
     "name": "stdout",
     "output_type": "stream",
     "text": [
      "🔥 正在获取 r/all 的热门帖子...\n",
      "\n"
     ]
    }
   ],
   "source": [
    "\n",
    "# 全站的热搜，对应页面的“今日热搜”\n",
    "posts_all, notFoundList = get_hot_posts(subreddit_name=\"all\", limit=10)"
   ]
  },
  {
   "cell_type": "code",
   "execution_count": 16,
   "id": "b8e675a5",
   "metadata": {},
   "outputs": [
    {
     "name": "stdout",
     "output_type": "stream",
     "text": [
      "Japan Just Gave Ukraine $3 Billion from Russian assets\n",
      "THE DALLAS MAVERICKS HAVE BEEN ELIMINATED FROM THE 2025 NBA CHAMPIONSHIP CONTENTION\n",
      "Wholesome ex-couple\n",
      "So….I found this in my garage this morning. Ummm\n",
      "NASAs first six women astronauts. February 1979\n",
      "Shine on.\n",
      "Boston’s Old North Church on the 250th anniversary of Paul Revere’s midnight ride\n",
      "Trump brags gas is down to $1.98 a gallon in a ‘couple of states.’ It isn’t — anywhere\n",
      "On the Old North Church last night in Boston.\n",
      "Kneecap open Coachella Gig with strong Messaging\n"
     ]
    }
   ],
   "source": [
    "for post in posts_all:\n",
    "    print(post['标题'])"
   ]
  },
  {
   "cell_type": "code",
   "execution_count": 21,
   "id": "de745d87",
   "metadata": {},
   "outputs": [
    {
     "name": "stdout",
     "output_type": "stream",
     "text": [
      "('Japan Just Gave Ukraine $3 Billion from Russian assets','https://reddit.com/r/worldnews/comments/1k2olxh/japan_just_gave_ukraine_3_billion_from_russian/'),\n",
      "('THE DALLAS MAVERICKS HAVE BEEN ELIMINATED FROM THE 2025 NBA CHAMPIONSHIP CONTENTION','https://reddit.com/r/nba/comments/1k2nr7a/the_dallas_mavericks_have_been_eliminated_from/'),\n",
      "('Wholesome ex-couple','https://reddit.com/r/MadeMeSmile/comments/1k2m06j/wholesome_excouple/'),\n",
      "('So….I found this in my garage this morning. Ummm','https://reddit.com/r/cats/comments/1k2l5mh/soi_found_this_in_my_garage_this_morning_ummm/'),\n",
      "('NASAs first six women astronauts. February 1979','https://reddit.com/r/OldSchoolCool/comments/1k2lkbj/nasas_first_six_women_astronauts_february_1979/'),\n",
      "('Shine on.','https://reddit.com/r/BlackPeopleTwitter/comments/1k2ln0e/shine_on/'),\n",
      "('Boston’s Old North Church on the 250th anniversary of Paul Revere’s midnight ride','https://reddit.com/r/pics/comments/1k2ldt3/bostons_old_north_church_on_the_250th_anniversary/'),\n",
      "('Trump brags gas is down to $1.98 a gallon in a ‘couple of states.’ It isn’t — anywhere','https://reddit.com/r/politics/comments/1k2lf5y/trump_brags_gas_is_down_to_198_a_gallon_in_a/'),\n",
      "('On the Old North Church last night in Boston.','https://reddit.com/r/interestingasfuck/comments/1k2kmg6/on_the_old_north_church_last_night_in_boston/'),\n",
      "('Kneecap open Coachella Gig with strong Messaging','https://reddit.com/r/Fauxmoi/comments/1k2kvqk/kneecap_open_coachella_gig_with_strong_messaging/'),\n"
     ]
    }
   ],
   "source": [
    "for post in posts_all:\n",
    "    print(\"('\" + post['标题'] + \"',\" + \"'\" + post['链接'] + \"'),\")"
   ]
  }
 ],
 "metadata": {
  "kernelspec": {
   "display_name": "nlpbot",
   "language": "python",
   "name": "python3"
  },
  "language_info": {
   "codemirror_mode": {
    "name": "ipython",
    "version": 3
   },
   "file_extension": ".py",
   "mimetype": "text/x-python",
   "name": "python",
   "nbconvert_exporter": "python",
   "pygments_lexer": "ipython3",
   "version": "3.9.21"
  }
 },
 "nbformat": 4,
 "nbformat_minor": 5
}
